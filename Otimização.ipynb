{
 "cells": [
  {
   "cell_type": "code",
   "execution_count": 1,
   "metadata": {},
   "outputs": [
    {
     "name": "stderr",
     "output_type": "stream",
     "text": [
      "C:\\ProgramData\\Anaconda3\\lib\\site-packages\\pandas_datareader\\compat\\__init__.py:7: FutureWarning: pandas.util.testing is deprecated. Use the functions in the public API at pandas.testing instead.\n",
      "  from pandas.util.testing import assert_frame_equal\n"
     ]
    }
   ],
   "source": [
    "#Programa para otimização de portfólio\n",
    "\n",
    "import pandas as pd\n",
    "from pypfopt import EfficientFrontier \n",
    "from pypfopt import risk_models \n",
    "from pypfopt import expected_returns \n",
    "from pypfopt.discrete_allocation import DiscreteAllocation, get_latest_prices\n",
    "from pandas_datareader import data as wb\n",
    "\n"
   ]
  },
  {
   "cell_type": "code",
   "execution_count": 2,
   "metadata": {},
   "outputs": [],
   "source": [
    "#Leitura dos tickers coletados\n",
    "\n",
    "port = pd.read_excel(r'C:\\Python\\tickers b3.xlsx')\n",
    "\n"
   ]
  },
  {
   "cell_type": "code",
   "execution_count": 3,
   "metadata": {},
   "outputs": [],
   "source": [
    "#transformando em uma lista\n",
    "\n",
    "tickers = port.iloc[:,0].tolist()\n",
    "\n"
   ]
  },
  {
   "cell_type": "code",
   "execution_count": 4,
   "metadata": {},
   "outputs": [],
   "source": [
    "#Coletando os dados de cada ticker da lista\n",
    "data = pd.DataFrame()\n",
    "\n",
    "for i in tickers:\n",
    "    data[i] = wb.DataReader(i +'.SA', data_source='yahoo', start='2018-08-14' )['Adj Close']"
   ]
  },
  {
   "cell_type": "code",
   "execution_count": 5,
   "metadata": {},
   "outputs": [],
   "source": [
    "#NTCO3 precisou ser tirado, pois a formula a seguir estava dando inconsistencia devido a falta de dados sobre o ativo no API.\n",
    "#A parte da chegagem das informações não foi envolvida nesse programa, entretanto constatou-se que apenas faltava dados do NTCO3\n",
    "\n",
    "data = data.drop(columns='NTCO3')"
   ]
  },
  {
   "cell_type": "code",
   "execution_count": 6,
   "metadata": {},
   "outputs": [],
   "source": [
    "#Retorno esperado, baseado no intervalo de tempo estipulado\n",
    "retorno_esperado = expected_returns .mean_historical_return(data)\n",
    "\n",
    "#Volatilidade do portfolio, baseada na matriz de covariancia \n",
    "risco = risk_models.sample_cov(data)\n",
    "\n"
   ]
  },
  {
   "cell_type": "code",
   "execution_count": 7,
   "metadata": {},
   "outputs": [
    {
     "name": "stdout",
     "output_type": "stream",
     "text": [
      "OrderedDict([('ABEV3', 0.0), ('AZUL4', 0.0), ('B3SA3', 0.0), ('BBAS3', 0.0), ('BBDC3', 0.0), ('BBDC4', 0.0), ('BBSE3', 0.0), ('BEEF3', 0.0), ('BPAC11', 0.16305), ('BRAP4', 0.0), ('BRDT3', 0.0), ('BRFS3', 0.0), ('BRKM5', 0.0), ('BRML3', 0.0), ('BTOW3', 0.00238), ('CCRO3', 0.0), ('CIEL3', 0.0), ('CMIG4', 0.0), ('COGN3', 0.0), ('CPFE3', 0.0), ('CRFB3', 0.0), ('CSAN3', 0.0), ('CSNA3', 0.0), ('CVCB3', 0.0), ('CYRE3', 0.0), ('ECOR3', 0.0), ('EGIE3', 0.0), ('ELET3', 0.0), ('ELET6', 0.0), ('EMBR3', 0.0), ('ENBR3', 0.0), ('ENGI11', 0.0), ('EQTL3', 0.0), ('FLRY3', 0.0), ('GGBR4', 0.0), ('GNDI3', 0.0), ('GOAU4', 0.0), ('GOLL4', 0.0), ('HAPV3', 0.0), ('HGTX3', 0.0), ('HYPE3', 0.0), ('IGTA3', 0.0), ('IRBR3', 0.0), ('ITSA4', 0.0), ('ITUB4', 0.0), ('JBSS3', 0.07583), ('KLBN11', 0.0), ('LAME4', 0.0), ('LREN3', 0.0), ('MGLU3', 0.2416), ('MRFG3', 0.0), ('MRVE3', 0.0), ('MULT3', 0.0), ('PCAR3', 0.0), ('PETR3', 0.0), ('PETR4', 0.0), ('QUAL3', 0.0), ('RADL3', 0.0), ('RAIL3', 0.0), ('RENT3', 0.0), ('SANB11', 0.0), ('SBSP3', 0.0), ('SULA11', 0.0), ('SUZB3', 0.0), ('TAEE11', 0.0), ('TIMP3', 0.0), ('TOTS3', 0.0), ('UGPA3', 0.0), ('USIM5', 0.0), ('VALE3', 0.0), ('VIVT4', 0.0), ('VVAR3', 0.0), ('WEGE3', 0.51714), ('YDUQ3', 0.0)])\n",
      "Expected annual return: 85.2%\n",
      "Annual volatility: 40.4%\n",
      "Sharpe Ratio: 2.06\n"
     ]
    },
    {
     "data": {
      "text/plain": [
       "(0.852446677997071, 0.4035901284490865, 2.0626041603048906)"
      ]
     },
     "execution_count": 7,
     "metadata": {},
     "output_type": "execute_result"
    }
   ],
   "source": [
    "#Estabelecendo a fronteira eficiente( Markovtiz), relação de retorno e risco\n",
    "\n",
    "ef = EfficientFrontier(retorno_esperado, risco)\n",
    "\n",
    "#Modelando o peso dos ativos do portfolio, de acordo com a maximização do valor sharpe\n",
    "pesos = ef.max_sharpe()\n",
    "#Chamando método para retornar, retorno esperado, volatilidade anual e indice sharpe\n",
    "pesos_arredondados = ef.clean_weights()  \n",
    "print(pesos_arredondados)\n",
    "ef.portfolio_performance(verbose=True)"
   ]
  },
  {
   "cell_type": "code",
   "execution_count": 9,
   "metadata": {
    "scrolled": true
   },
   "outputs": [
    {
     "name": "stdout",
     "output_type": "stream",
     "text": [
      "Alocação discreta: {'BPAC11': 1.0, 'CIEL3': 1.0, 'JBSS3': 2.0, 'MGLU3': 1.0, 'WEGE3': 4.0}\n",
      "Fundos sobrando: R$8.01\n"
     ]
    }
   ],
   "source": [
    "#Alocação discreta baseada nos pesos dos ativos do portfólio otimizado\n",
    "\n",
    "precos = get_latest_prices(data)\n",
    "novo_peso = pesos_arredondados\n",
    "da = DiscreteAllocation(novo_peso, precos, total_portfolio_value=500)\n",
    "allocation, leftover = da.lp_portfolio()\n",
    "print(\"Alocação discreta:\", allocation)\n",
    "print(\"Fundos sobrando: R${:.2f}\".format(leftover))"
   ]
  },
  {
   "cell_type": "code",
   "execution_count": null,
   "metadata": {},
   "outputs": [],
   "source": [
    "#Será que foi?"
   ]
  },
  {
   "cell_type": "code",
   "execution_count": 2,
   "metadata": {},
   "outputs": [
    {
     "output_type": "execute_result",
     "data": {
      "text/plain": [
       "89"
      ]
     },
     "metadata": {},
     "execution_count": 2
    }
   ],
   "source": [
    "conta = 50 + 39\n",
    "conta"
   ]
  },
  {
   "cell_type": "code",
   "execution_count": null,
   "metadata": {},
   "outputs": [],
   "source": []
  }
 ],
 "metadata": {
  "kernelspec": {
   "display_name": "Python 3",
   "language": "python",
   "name": "python3"
  },
  "language_info": {
   "codemirror_mode": {
    "name": "ipython",
    "version": 3
   },
   "file_extension": ".py",
   "mimetype": "text/x-python",
   "name": "python",
   "nbconvert_exporter": "python",
   "pygments_lexer": "ipython3",
   "version": "3.8.3-final"
  }
 },
 "nbformat": 4,
 "nbformat_minor": 4
}